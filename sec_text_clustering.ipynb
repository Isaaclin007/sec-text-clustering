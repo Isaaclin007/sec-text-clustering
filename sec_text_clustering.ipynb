{
 "cells": [
  {
   "cell_type": "code",
   "execution_count": 1,
   "metadata": {},
   "outputs": [],
   "source": [
    "import random\n",
    "from pprint import pprint\n",
    "import gensim.corpora as corpora\n",
    "from nltk.corpus import stopwords as sw\n",
    "from gensim.models.ldamodel import LdaModel\n",
    "\n",
    "from utils.processing import scrape_edgar, format_text, lem_and_stem, add_bigrams\n",
    "from utils.stopwords import stopwords as custom_sw"
   ]
  },
  {
   "cell_type": "code",
   "execution_count": 2,
   "metadata": {},
   "outputs": [],
   "source": [
    "stopwords = set(sw.words('english')).union(custom_sw)"
   ]
  },
  {
   "cell_type": "code",
   "execution_count": 3,
   "metadata": {},
   "outputs": [],
   "source": [
    "from data.sec_edgar_urls import URLS_10K"
   ]
  },
  {
   "cell_type": "code",
   "execution_count": 4,
   "metadata": {},
   "outputs": [
    {
     "name": "stderr",
     "output_type": "stream",
     "text": [
      "100%|██████████| 32/32 [02:49<00:00,  8.37s/it]\n"
     ]
    }
   ],
   "source": [
    "docContents = scrape_edgar(URLS_10K)"
   ]
  },
  {
   "cell_type": "code",
   "execution_count": 5,
   "metadata": {},
   "outputs": [],
   "source": [
    "X = []\n",
    "companies = []\n",
    "for company, doc in docContents.items():\n",
    "    companies.append(company)\n",
    "    X.append(lem_and_stem(format_text(doc), stopwords))\n",
    "X = add_bigrams(X)"
   ]
  },
  {
   "cell_type": "code",
   "execution_count": 6,
   "metadata": {},
   "outputs": [],
   "source": [
    "idWordDictionary = corpora.Dictionary(X)\n",
    "idWordDictionary.filter_extremes(no_below=5)  # filter rare words\n",
    "corpus = [idWordDictionary.doc2bow(doc) for doc in X]\n",
    "readableCorpus = [[(idWordDictionary[wordid], freq) for wordid, freq in cp] for cp in corpus[:1]]"
   ]
  },
  {
   "cell_type": "code",
   "execution_count": 7,
   "metadata": {},
   "outputs": [],
   "source": [
    "numTopics = 5\n",
    "passes = 30\n",
    "iterations = 400\n",
    "seed = 667  # random.randint(0,1000)\n",
    "\n",
    "lda = LdaModel(corpus=corpus,\n",
    "    id2word=idWordDictionary,\n",
    "    num_topics=numTopics, \n",
    "    passes=100,  # 1000 pretty good\n",
    "    eta='auto',\n",
    "    alpha='auto',\n",
    "    update_every=0,  # batch learning\n",
    "    random_state=seed\n",
    ")"
   ]
  },
  {
   "cell_type": "code",
   "execution_count": 8,
   "metadata": {},
   "outputs": [
    {
     "name": "stdout",
     "output_type": "stream",
     "text": [
      "{0: ['CHEVRON', 'HOMEDEPOT'],\n",
      " 1: ['UNITEDHEALTH', 'PFIZER', 'MERCK'],\n",
      " 2: ['APPLE', 'WALMART', 'AMAZON', 'CISCO', 'DISNEY'],\n",
      " 3: ['VISA', 'MASTERCARD'],\n",
      " 4: ['FACEBOOK', 'ALPHABET', 'PHILIPMORRIS']}\n"
     ]
    }
   ],
   "source": [
    "cluster = dict()\n",
    "\n",
    "for i in range(numTopics):\n",
    "    cluster[i] = []\n",
    "\n",
    "for idx, company in enumerate(companies):\n",
    "    mod_pred = lda[corpus[idx]]\n",
    "    weights = [w[1] for w in mod_pred]\n",
    "    idx_max = weights.index(max(weights))\n",
    "    max_topic = mod_pred[idx_max][0]\n",
    "    cluster[max_topic].append(company)\n",
    "    \n",
    "pprint(cluster)"
   ]
  },
  {
   "cell_type": "code",
   "execution_count": 9,
   "metadata": {},
   "outputs": [
    {
     "name": "stdout",
     "output_type": "stream",
     "text": [
      "APPLE [(2, 0.9997229)]\n",
      "WALMART [(2, 0.9998605)]\n",
      "AMAZON [(2, 0.9994884)]\n",
      "FACEBOOK [(4, 0.9992917)]\n",
      "ALPHABET [(4, 0.99969685)]\n",
      "VISA [(3, 0.9998805)]\n",
      "UNITEDHEALTH [(1, 0.9998781)]\n",
      "CHEVRON [(0, 0.99987483)]\n",
      "PFIZER [(1, 0.9999062)]\n",
      "CISCO [(2, 0.9998805)]\n",
      "HOMEDEPOT [(0, 0.9997771)]\n",
      "MERCK [(1, 0.99989176)]\n",
      "MASTERCARD [(3, 0.9998624)]\n",
      "DISNEY [(2, 0.999906)]\n",
      "PHILIPMORRIS [(4, 0.99942845)]\n"
     ]
    }
   ],
   "source": [
    "for idx, company in enumerate(companies):\n",
    "    print(company, lda[corpus[idx]])"
   ]
  },
  {
   "cell_type": "code",
   "execution_count": 10,
   "metadata": {},
   "outputs": [
    {
     "name": "stdout",
     "output_type": "stream",
     "text": [
      "[(0,\n",
      "  '0.079*\"field\" + 0.059*\"well\" + 0.051*\"home\" + 0.044*\"affili\" + '\n",
      "  '0.028*\"capac\" + 0.028*\"energi\" + 0.022*\"australia\" + 0.020*\"water\" + '\n",
      "  '0.017*\"mexico\" + 0.015*\"sharehold\"'),\n",
      " (1,\n",
      "  '0.116*\"care\" + 0.033*\"phase\" + 0.022*\"insur\" + 0.020*\"adult\" + '\n",
      "  '0.017*\"agenc\" + 0.014*\"japan\" + 0.014*\"coverag\" + 0.014*\"rule\" + '\n",
      "  '0.014*\"section\" + 0.013*\"contract\"'),\n",
      " (2,\n",
      "  '0.036*\"station\" + 0.023*\"cloud\" + 0.020*\"home\" + 0.019*\"video\" + '\n",
      "  '0.018*\"execut\" + 0.015*\"enterpris\" + 0.014*\"hardwar\" + 0.014*\"hour\" + '\n",
      "  '0.014*\"game\" + 0.013*\"shop\"'),\n",
      " (3,\n",
      "  '0.058*\"institut\" + 0.057*\"card\" + 0.040*\"issuer\" + 0.028*\"fee\" + '\n",
      "  '0.028*\"commerc\" + 0.028*\"core\" + 0.028*\"credit\" + 0.021*\"accept\" + '\n",
      "  '0.016*\"fund\" + 0.015*\"jurisdict\"'),\n",
      " (4,\n",
      "  '0.019*\"cloud\" + 0.017*\"hardwar\" + 0.016*\"video\" + 0.013*\"learn\" + '\n",
      "  '0.012*\"climat\" + 0.012*\"execut\" + 0.011*\"trend\" + 0.011*\"disclosur\" + '\n",
      "  '0.011*\"oblig\" + 0.011*\"instanc\"')]\n"
     ]
    }
   ],
   "source": [
    "pprint(lda.print_topics())\n",
    "doc_lda = lda[corpus]"
   ]
  },
  {
   "cell_type": "code",
   "execution_count": null,
   "metadata": {},
   "outputs": [],
   "source": []
  }
 ],
 "metadata": {
  "kernelspec": {
   "display_name": "Python 3",
   "language": "python",
   "name": "python3"
  },
  "language_info": {
   "codemirror_mode": {
    "name": "ipython",
    "version": 3
   },
   "file_extension": ".py",
   "mimetype": "text/x-python",
   "name": "python",
   "nbconvert_exporter": "python",
   "pygments_lexer": "ipython3",
   "version": "3.6.8"
  }
 },
 "nbformat": 4,
 "nbformat_minor": 2
}
